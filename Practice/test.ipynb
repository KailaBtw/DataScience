{
 "cells": [
  {
   "cell_type": "code",
   "execution_count": 3,
   "id": "initial_id",
   "metadata": {
    "collapsed": true,
    "ExecuteTime": {
     "end_time": "2023-11-01T01:34:16.727483200Z",
     "start_time": "2023-11-01T01:34:16.717211800Z"
    }
   },
   "outputs": [
    {
     "data": {
      "text/plain": "21.753750646663217"
     },
     "execution_count": 3,
     "metadata": {},
     "output_type": "execute_result"
    }
   ],
   "source": [
    "import numpy as np\n",
    "\n",
    "small_dose = np.array([\n",
    "\n",
    "    1,2,4,5,6,12,13,20\n",
    "\n",
    "])\n",
    "\n",
    "medium_dose = np.array([\n",
    "\n",
    "    4,8,12,22,60,90,105,120\n",
    "\n",
    "])\n",
    "\n",
    "from scipy import stats\n",
    "\n",
    "res = stats.levene(small_dose, medium_dose)\n",
    "\n",
    "res.statistic\n",
    "\n"
   ]
  },
  {
   "cell_type": "code",
   "execution_count": null,
   "outputs": [],
   "source": [],
   "metadata": {
    "collapsed": false
   },
   "id": "c5dd567f55e9053b"
  }
 ],
 "metadata": {
  "kernelspec": {
   "display_name": "Python 3",
   "language": "python",
   "name": "python3"
  },
  "language_info": {
   "codemirror_mode": {
    "name": "ipython",
    "version": 2
   },
   "file_extension": ".py",
   "mimetype": "text/x-python",
   "name": "python",
   "nbconvert_exporter": "python",
   "pygments_lexer": "ipython2",
   "version": "2.7.6"
  }
 },
 "nbformat": 4,
 "nbformat_minor": 5
}
